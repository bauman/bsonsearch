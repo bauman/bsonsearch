{
 "cells": [
  {
   "cell_type": "code",
   "execution_count": 2,
   "metadata": {},
   "outputs": [],
   "source": [
    "import bsonsearch"
   ]
  },
  {
   "cell_type": "code",
   "execution_count": 3,
   "metadata": {},
   "outputs": [],
   "source": [
    "bc = bsonsearch.bsoncompare()"
   ]
  },
  {
   "cell_type": "markdown",
   "metadata": {},
   "source": [
    "The standard libbson library cannot recurse into main.sub.third in document like the one below.  \n",
    "\n",
    "\n",
    "You could explicitly call every document using the convert_to_and helper function to turn \n",
    "\n",
    "{\"main.sub.third\":3} \n",
    "\n",
    "into\n",
    "\n",
    "{\"$or\": [{\"main.0.sub.third\": 3}, {\"main.1.sub.0.third\": 3}, {\"main.1.sub.1.third\": 3}]}\n",
    "\n",
    "This forces the library to create (and destroy) a new matcher object per document (nearly doubling the overhead)"
   ]
  },
  {
   "cell_type": "code",
   "execution_count": 7,
   "metadata": {},
   "outputs": [
    {
     "name": "stdout",
     "output_type": "stream",
     "text": [
      "10000 loops, best of 3: 72.1 µs per loop\n"
     ]
    }
   ],
   "source": [
    "%%timeit\n",
    "from bson import json_util\n",
    "spec = {\"main.sub.third\":3}\n",
    "doc = {\"main\":[{\"sub\":{\"third\":2}},{\"sub\":[{\"third\":2}, {\"third\":3}]}]}\n",
    "doc_id = bc.generate_doc(doc)\n",
    "newspec = bc.convert_to_and(spec, doc_id)['$and'][0]\n",
    "matcher= bc.generate_matcher(newspec)\n",
    "found = bc.match_doc(matcher, doc_id)\n",
    "bc.destroy_matcher(bc.matchers)\n",
    "bc.destroy_doc(doc_id)\n",
    "#print found"
   ]
  },
  {
   "cell_type": "markdown",
   "metadata": {},
   "source": [
    "libbsoncompare now also support mongodb consistent searching\n",
    "\n",
    "so you no longer need to call the convert_to_and function.\n",
    "\n",
    "!However!, in doing this, it no longer supports mongodb queries where you can specify a compare against an individual item in the list.  I never used or needed this functionality.  Even through it doesn't make sense, in MongoDB logic, if you're looking for a specific item in a list, you should be storing as a list of subdocuments.  I'd be more interested if someone had a legitimate reason for that function anyway.\n",
    "\n",
    "Anyhoo, this works now, without creating a new matcher every document, AND cuts the compare time in half.\n",
    "\n"
   ]
  },
  {
   "cell_type": "code",
   "execution_count": 8,
   "metadata": {},
   "outputs": [
    {
     "name": "stdout",
     "output_type": "stream",
     "text": [
      "10000 loops, best of 3: 34.9 µs per loop\n"
     ]
    }
   ],
   "source": [
    "%%timeit\n",
    "spec = {\"main.sub.third\":3}\n",
    "doc = {\"main\":[{\"sub\":{\"third\":2}},{\"sub\":[{\"third\":2}, {\"third\":3}]}]}\n",
    "doc_id = bc.generate_doc(doc)\n",
    "matcher= bc.generate_matcher(spec)\n",
    "found = bc.match_doc(matcher, doc_id)\n",
    "bc.destroy_matcher(bc.matchers)\n",
    "bc.destroy_doc(doc_id)"
   ]
  }
 ],
 "metadata": {
  "kernelspec": {
   "display_name": "Python 3",
   "language": "python",
   "name": "python3"
  },
  "language_info": {
   "codemirror_mode": {
    "name": "ipython",
    "version": 3
   },
   "file_extension": ".py",
   "mimetype": "text/x-python",
   "name": "python",
   "nbconvert_exporter": "python",
   "pygments_lexer": "ipython3",
   "version": "3.6.6"
  }
 },
 "nbformat": 4,
 "nbformat_minor": 1
}
