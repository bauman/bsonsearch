{
 "metadata": {
  "name": "",
  "signature": "sha256:b9b3af2a7b8ffb3bc0ca09574e30101f75fb0faf64570f4510d7b3fe2e7b3708"
 },
 "nbformat": 3,
 "nbformat_minor": 0,
 "worksheets": [
  {
   "cells": [
    {
     "cell_type": "code",
     "collapsed": false,
     "input": [
      "import bsonsearch"
     ],
     "language": "python",
     "metadata": {},
     "outputs": [],
     "prompt_number": 2
    },
    {
     "cell_type": "code",
     "collapsed": false,
     "input": [
      "bc = bsonsearch.bsoncompare()"
     ],
     "language": "python",
     "metadata": {},
     "outputs": [],
     "prompt_number": 3
    },
    {
     "cell_type": "markdown",
     "metadata": {},
     "source": [
      "The standard libbson library cannot recurse into main.sub.third in document like the one below.  \n",
      "\n",
      "\n",
      "You could explicitly call every document using the convert_to_and helper function to turn \n",
      "\n",
      "{\"main.sub.third\":3} \n",
      "\n",
      "into\n",
      "\n",
      "{\"$or\": [{\"main.0.sub.third\": 3}, {\"main.1.sub.0.third\": 3}, {\"main.1.sub.1.third\": 3}]}\n",
      "\n",
      "This forces the library to create (and destroy) a new matcher object per document (nearly doubling the overhead)"
     ]
    },
    {
     "cell_type": "code",
     "collapsed": false,
     "input": [
      "%%timeit\n",
      "from bson import json_util\n",
      "spec = {\"main.sub.third\":3}\n",
      "doc = {\"main\":[{\"sub\":{\"third\":2}},{\"sub\":[{\"third\":2}, {\"third\":3}]}]}\n",
      "doc_id = bc.generate_doc(doc)\n",
      "newspec = bc.convert_to_and(spec, doc_id)['$and'][0]\n",
      "matcher= bc.generate_matcher(newspec)\n",
      "found = bc.match_doc(matcher, doc_id)\n",
      "bc.destroy_matcher(bc.matchers)\n",
      "bc.destroy_doc(doc_id)\n",
      "#print found"
     ],
     "language": "python",
     "metadata": {},
     "outputs": [
      {
       "output_type": "stream",
       "stream": "stdout",
       "text": [
        "10000 loops, best of 3: 72.1 \u00b5s per loop\n"
       ]
      }
     ],
     "prompt_number": 7
    },
    {
     "cell_type": "markdown",
     "metadata": {},
     "source": [
      "libbsoncompare now also support mongodb consistent searching\n",
      "\n",
      "so you no longer need to call the convert_to_and function.\n",
      "\n",
      "!However!, in doing this, it no longer supports mongodb queries where you can specify a compare against an individual item in the list.  I never used or needed this functionality.  Even through it doesn't make sense, in MongoDB logic, if you're looking for a specific item in a list, you should be storing as a list of subdocuments.  I'd be more interested if someone had a legitimate reason for that function anyway.\n",
      "\n",
      "Anyhoo, this works now, without creating a new matcher every document, AND cuts the compare time in half.\n",
      "\n"
     ]
    },
    {
     "cell_type": "code",
     "collapsed": false,
     "input": [
      "%%timeit\n",
      "spec = {\"main.sub.third\":3}\n",
      "doc = {\"main\":[{\"sub\":{\"third\":2}},{\"sub\":[{\"third\":2}, {\"third\":3}]}]}\n",
      "doc_id = bc.generate_doc(doc)\n",
      "matcher= bc.generate_matcher(spec)\n",
      "found = bc.match_doc(matcher, doc_id)\n",
      "bc.destroy_matcher(bc.matchers)\n",
      "bc.destroy_doc(doc_id)"
     ],
     "language": "python",
     "metadata": {},
     "outputs": [
      {
       "output_type": "stream",
       "stream": "stdout",
       "text": [
        "10000 loops, best of 3: 34.9 \u00b5s per loop\n"
       ]
      }
     ],
     "prompt_number": 8
    }
   ],
   "metadata": {}
  }
 ]
}