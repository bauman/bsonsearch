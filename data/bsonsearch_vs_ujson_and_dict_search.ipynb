{
 "metadata": {
  "name": "",
  "signature": "sha256:08f2a4f61e103c47920377a98cd7c6f687f4628e6d2d0aed0777aed9160c8dc4"
 },
 "nbformat": 3,
 "nbformat_minor": 0,
 "worksheets": [
  {
   "cells": [
    {
     "cell_type": "code",
     "collapsed": false,
     "input": [
      "bson_file = \"/tmp/data/twitter_sample.bson.gz\"\n",
      "json_file = \"/tmp/data/twitter_sample.json.gz\""
     ],
     "language": "python",
     "metadata": {},
     "outputs": [],
     "prompt_number": 1
    },
    {
     "cell_type": "code",
     "collapsed": false,
     "input": [
      "import gzip\n",
      "import re"
     ],
     "language": "python",
     "metadata": {},
     "outputs": [],
     "prompt_number": 2
    },
    {
     "cell_type": "code",
     "collapsed": false,
     "input": [
      "from bsonstream import KeyValueBSONInput\n",
      "import bsonsearch\n",
      "import bson\n",
      "def test_bson():\n",
      "    bc = bsonsearch.bsoncompare()\n",
      "    bson_fh = gzip.open(bson_file,\"rb\")\n",
      "    stream = KeyValueBSONInput(fh=bson_fh, decode=False)\n",
      "    query = {\"text\":re.compile(r\".*you.*\", re.IGNORECASE)}\n",
      "    matcher = bc.generate_matcher(query)\n",
      "    for doc in stream:\n",
      "        if bc.match(matcher, doc):\n",
      "            yield bson.BSON.decode(bson.BSON(doc))\n",
      "    bson_fh.close()"
     ],
     "language": "python",
     "metadata": {},
     "outputs": [],
     "prompt_number": 3
    },
    {
     "cell_type": "code",
     "collapsed": false,
     "input": [
      "import ujson #ultrajson is the fastest json decoder i've seen.  \n",
      "def test_json():\n",
      "    json_fh = gzip.open(json_file, \"rb\")\n",
      "    query = re.compile(r\".*you.*\", re.IGNORECASE) \n",
      "    for line in json_fh:\n",
      "        decoded_json = ujson.decode(line)\n",
      "        try:\n",
      "            if query.match(decoded_json['text']):\n",
      "                yield decoded_json\n",
      "        except KeyError: #\"text\" key is not guaranteed in document\n",
      "            pass\n",
      "    json_fh.close()"
     ],
     "language": "python",
     "metadata": {},
     "outputs": [],
     "prompt_number": 4
    },
    {
     "cell_type": "code",
     "collapsed": false,
     "input": [
      "%%timeit\n",
      "result_bson = [x for x in test_bson()]"
     ],
     "language": "python",
     "metadata": {},
     "outputs": [
      {
       "output_type": "stream",
       "stream": "stdout",
       "text": [
        "100 loops, best of 3: 5.56 ms per loop\n"
       ]
      }
     ],
     "prompt_number": 5
    },
    {
     "cell_type": "code",
     "collapsed": false,
     "input": [
      "%%timeit\n",
      "result_json = [x for x in test_json()]"
     ],
     "language": "python",
     "metadata": {},
     "outputs": [
      {
       "output_type": "stream",
       "stream": "stdout",
       "text": [
        "100 loops, best of 3: 11.3 ms per loop\n"
       ]
      }
     ],
     "prompt_number": 6
    },
    {
     "cell_type": "markdown",
     "metadata": {},
     "source": [
      "Not surprising that bson outperformed.\n",
      "\n",
      "BSON only completely decodes the document/dict if the document matches the query.\n",
      "\n",
      "DICT/Json compare has to deserialize every document before perfoming the check.\n",
      "\n",
      "utf8 string decode/encode is notoriously slow and should be avoided, especially for something as text rich as tweets"
     ]
    },
    {
     "cell_type": "code",
     "collapsed": false,
     "input": [],
     "language": "python",
     "metadata": {},
     "outputs": []
    }
   ],
   "metadata": {}
  }
 ]
}