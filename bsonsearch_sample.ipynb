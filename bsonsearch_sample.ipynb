{
 "cells": [
  {
   "cell_type": "code",
   "execution_count": 3,
   "metadata": {},
   "outputs": [
    {
     "name": "stdout",
     "output_type": "stream",
     "text": [
      "{'$and': [{'$or': [{'c.d': 'dan'}]}, {'$or': [{'a.0.b.0': {'$in': [7, 6, 5]}}, {'a.0.b.1': {'$in': [7, 6, 5]}}, {'a.1.b.0': {'$in': [7, 6, 5]}}, {'a.1.b.1': {'$in': [7, 6, 5]}}]}]}\n"
     ]
    }
   ],
   "source": [
    "import bsonsearch\n",
    "bc = bsonsearch.bsoncompare()\n",
    "doc = {'a': [{'b': [1, 2]}, {'b': [3, 5]}],\n",
    "       \"c\":{\"d\":\"dan\"}}\n",
    "doc_id = bc.generate_doc(doc)\n",
    "spec = {\"a.b\":{\"$in\":[7, 6, 5]},\n",
    "        \"c.d\":\"dan\"}\n",
    "query = bc.convert_to_and(spec, doc_id)\n",
    "print query"
   ]
  },
  {
   "cell_type": "code",
   "execution_count": null,
   "metadata": {},
   "outputs": [],
   "source": [
    "matcher = bc.generate_matcher(query)\n",
    "print bc.match_doc(matcher, doc_id)\n",
    "bc.destroy_doc(doc_id)"
   ]
  },
  {
   "cell_type": "code",
   "execution_count": 5,
   "metadata": {},
   "outputs": [],
   "source": [
    "\n",
    "bc.destroy_doc(bc.docs)\n",
    "bc.destroy_matcher(bc.matchers)"
   ]
  }
 ],
 "metadata": {
  "kernelspec": {
   "display_name": "Python 3",
   "language": "python",
   "name": "python3"
  },
  "language_info": {
   "codemirror_mode": {
    "name": "ipython",
    "version": 3
   },
   "file_extension": ".py",
   "mimetype": "text/x-python",
   "name": "python",
   "nbconvert_exporter": "python",
   "pygments_lexer": "ipython3",
   "version": "3.6.6"
  }
 },
 "nbformat": 4,
 "nbformat_minor": 1
}
