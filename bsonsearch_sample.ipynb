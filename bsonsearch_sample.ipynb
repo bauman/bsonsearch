{
 "metadata": {
  "name": "",
  "signature": "sha256:5b2d5c3f6ecf0de9aad9d82dbab7b4612714442903d5decb8532fa6d1703f697"
 },
 "nbformat": 3,
 "nbformat_minor": 0,
 "worksheets": [
  {
   "cells": [
    {
     "cell_type": "code",
     "collapsed": false,
     "input": [
      "import bsonsearch\n",
      "bc = bsonsearch.bsoncompare()\n",
      "doc = {'a': [{'b': [1, 2]}, {'b': [3, 5]}],\n",
      "       \"c\":{\"d\":\"dan\"}}\n",
      "doc_id = bc.generate_doc(doc)\n",
      "spec = {\"a.b\":{\"$in\":[7, 6, 5]},\n",
      "        \"c.d\":\"dan\"}\n",
      "query = bc.convert_to_and(spec, doc_id)\n",
      "print query"
     ],
     "language": "python",
     "metadata": {},
     "outputs": [
      {
       "output_type": "stream",
       "stream": "stdout",
       "text": [
        "{'$and': [{'$or': [{'c.d': 'dan'}]}, {'$or': [{'a.0.b.0': {'$in': [7, 6, 5]}}, {'a.0.b.1': {'$in': [7, 6, 5]}}, {'a.1.b.0': {'$in': [7, 6, 5]}}, {'a.1.b.1': {'$in': [7, 6, 5]}}]}]}\n"
       ]
      }
     ],
     "prompt_number": 3
    },
    {
     "cell_type": "code",
     "collapsed": false,
     "input": [
      "matcher = bc.generate_matcher(query)\n",
      "print bc.match_doc(matcher, doc_id)\n",
      "bc.destroy_doc(doc_id)"
     ],
     "language": "python",
     "metadata": {},
     "outputs": []
    },
    {
     "cell_type": "code",
     "collapsed": false,
     "input": [
      "\n",
      "bc.destroy_doc(bc.docs)\n",
      "bc.destroy_matcher(bc.matchers)"
     ],
     "language": "python",
     "metadata": {},
     "outputs": [],
     "prompt_number": 5
    }
   ],
   "metadata": {}
  }
 ]
}