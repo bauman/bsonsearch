{
 "cells": [
  {
   "cell_type": "markdown",
   "metadata": {},
   "source": [
    "Return data to JSON or leave in BSON\n",
    "============\n",
    "\n",
    "bsonsearch has the capability to project data back into python.  Depending on your application, you may want to efficiently convert to a more standardized format such as JSON.\n",
    "\n",
    "Much has been made about assertion #3 from bsonspec.org\n",
    "\n",
    "> **Efficient**\n",
    ">\n",
    "> Encoding data to BSON and decoding from BSON can be performed very quickly in most languages due to the use of C data types.\n",
    "\n",
    "\n",
    "At least in this case, there is a bit of reason to allow this library to let the data remain in BSON in certain cases\n"
   ]
  },
  {
   "cell_type": "markdown",
   "metadata": {},
   "source": [
    "Set up the compare / projection engine\n",
    "------------------------\n",
    "\n",
    "This specific dataset uses the named strengths of BSON compared to JSON (unique-ish IDs, datetime, and regexes)."
   ]
  },
  {
   "cell_type": "code",
   "execution_count": 1,
   "metadata": {},
   "outputs": [],
   "source": [
    "import bson\n",
    "import re\n",
    "from bsonsearch import bsoncompare\n",
    "from datetime import datetime\n",
    "bc = bsoncompare()\n",
    "source_data = {\"a\":[bson.objectid.ObjectId(), datetime.now(), re.compile(r\".*test string.*\", re.IGNORECASE)]}\n",
    "echo_projection = bc.generate_matcher({\"$project\":{\"a\":True}})\n",
    "source_data_doc_id = bc.generate_doc(source_data)"
   ]
  },
  {
   "cell_type": "markdown",
   "metadata": {},
   "source": [
    "Standard BSON->JSON->BSON encoding using the default json_util\n",
    "--------------------------------\n",
    "\n",
    "The only *valid* reason to transform in this manner is to pass data around which you intend to manipulate, require the python/dict format, but a library in the tool chain does not support null characters in strings, such as passing though something that casts to a cstring.  Otherwise, there's no reason to take the serialization out of BSON if you intend to put it back into BSON in the same tool chain. "
   ]
  },
  {
   "cell_type": "code",
   "execution_count": 2,
   "metadata": {},
   "outputs": [
    {
     "name": "stdout",
     "output_type": "stream",
     "text": [
      "{'a': [ObjectId('57269865e1382332ba4346e3'), datetime.datetime(2016, 5, 1, 18, 59, 33, 102667), <_sre.SRE_Pattern object at 0x16c1030>]}\n",
      "{u'a': [ObjectId('57269865e1382332ba4346e3'), datetime.datetime(2016, 5, 1, 18, 59, 33, 102000, tzinfo=<bson.tz_util.FixedOffset object at 0x169fa90>), Regex(u'.*test string.*', 2)]}\n"
     ]
    }
   ],
   "source": [
    "print source_data\n",
    "print bc.project_json_as_dict(echo_projection, source_data_doc_id)"
   ]
  },
  {
   "cell_type": "markdown",
   "metadata": {},
   "source": [
    "The bson.json_util library has *correctly* translated the back to a fair representation of the source.  "
   ]
  },
  {
   "cell_type": "code",
   "execution_count": 3,
   "metadata": {},
   "outputs": [
    {
     "name": "stdout",
     "output_type": "stream",
     "text": [
      "10000 loops, best of 3: 48.6 µs per loop\n"
     ]
    }
   ],
   "source": [
    "%%timeit\n",
    "bc.project_json_as_dict(echo_projection, source_data_doc_id)"
   ]
  },
  {
   "cell_type": "markdown",
   "metadata": {},
   "source": [
    "Standard BSON->BSON pointer passing\n",
    "--------------------------------\n",
    "\n",
    "If everything lies within the same process space and you can pass pointers around the c library, this is going to be the easiest method"
   ]
  },
  {
   "cell_type": "code",
   "execution_count": 4,
   "metadata": {},
   "outputs": [
    {
     "name": "stdout",
     "output_type": "stream",
     "text": [
      "{'a': [ObjectId('57269865e1382332ba4346e3'), datetime.datetime(2016, 5, 1, 18, 59, 33, 102667), <_sre.SRE_Pattern object at 0x16c1030>]}\n",
      "{u'a': [ObjectId('57269865e1382332ba4346e3'), datetime.datetime(2016, 5, 1, 18, 59, 33, 102000), Regex(u'.*test string.*', 2)]}\n"
     ]
    }
   ],
   "source": [
    "print source_data\n",
    "print bc.project_bson_as_dict(echo_projection, source_data_doc_id)"
   ]
  },
  {
   "cell_type": "markdown",
   "metadata": {},
   "source": [
    "The bson.json_util library has *correctly* translated the back to a fair representation of the source.  "
   ]
  },
  {
   "cell_type": "code",
   "execution_count": 5,
   "metadata": {},
   "outputs": [
    {
     "name": "stdout",
     "output_type": "stream",
     "text": [
      "100000 loops, best of 3: 9.44 µs per loop\n"
     ]
    }
   ],
   "source": [
    "%%timeit\n",
    "bc.project_bson_as_dict(echo_projection, source_data_doc_id)"
   ]
  },
  {
   "cell_type": "markdown",
   "metadata": {},
   "source": [
    "Standard BSON->JSON->DICT\n",
    "--------------------------------\n",
    "\n",
    "This may be a good idea if your application has no intention to modify the response data but does need it it deserialized in order to embed the response into another json wrapper within web services.\n",
    "\n",
    "ujson (https://github.com/esnme/ultrajson) has statistics on their github page showing it's ability to (de)serialize strings that match the strict formatting requirements.  There's basically no error checking. Fortunately, you should be able to assume libbson correctly error checks and only returns valid json"
   ]
  },
  {
   "cell_type": "code",
   "execution_count": 6,
   "metadata": {},
   "outputs": [],
   "source": [
    "import ujson"
   ]
  },
  {
   "cell_type": "code",
   "execution_count": 7,
   "metadata": {},
   "outputs": [
    {
     "name": "stdout",
     "output_type": "stream",
     "text": [
      "{'a': [ObjectId('57269865e1382332ba4346e3'), datetime.datetime(2016, 5, 1, 18, 59, 33, 102667), <_sre.SRE_Pattern object at 0x16c1030>]}\n",
      "{u'a': [{u'$oid': u'57269865e1382332ba4346e3'}, {u'$date': 1462129173102L}, {u'$options': u'i', u'$regex': u'.*test string.*'}]}\n"
     ]
    }
   ],
   "source": [
    "print source_data\n",
    "print ujson.loads(bc.project_json(echo_projection, source_data_doc_id))"
   ]
  },
  {
   "cell_type": "code",
   "execution_count": 8,
   "metadata": {},
   "outputs": [
    {
     "name": "stdout",
     "output_type": "stream",
     "text": [
      "100000 loops, best of 3: 8.11 µs per loop\n"
     ]
    }
   ],
   "source": [
    "%%timeit\n",
    "ujson.loads(bc.project_json(echo_projection, source_data_doc_id))"
   ]
  },
  {
   "cell_type": "markdown",
   "metadata": {},
   "source": [
    "it is slightly faster than bson->bson, but the output may be unusable if you need to cast these things back to their original types."
   ]
  },
  {
   "cell_type": "markdown",
   "metadata": {},
   "source": [
    "Conclusion\n",
    "-------------------------\n",
    "\n",
    "\n",
    "As with everything, the road you choose depends highly on what you intend to do with this data.\n",
    "\n",
    "\n",
    "If you stick to standard types (utf8/number/document/array) go ahead and immediately cast to json using the **project_json** call from this library and use the most efficient json decoder (perhaps ujson) to pull it back into a python dict if you need.\n",
    "\n",
    "\n",
    "\n",
    "If you use  bson specific types **AND** want to use those values within the pipeline, you should use the **project_bson_as_dict** call from this library, check/modify/play with the data as you see fit, then use the json_util to push to json when complete.  I don't see much use for the default json_util conversion at any time other than immediately before you're about to serialize to a system where it won't be cast back into a python dict. (Like encoding to JSON immediately prior to passing to a javascript client).\n",
    "\n",
    "\n",
    "If error chekcing and data trustworthyness is more important to you in your application than speed, you should allow the **project_json_as_dict** to handle the serialization.  Upstream vendor of that function does perform checking of inputs.  \n",
    "\n"
   ]
  },
  {
   "cell_type": "code",
   "execution_count": 8,
   "metadata": {},
   "outputs": [],
   "source": []
  }
 ],
 "metadata": {
  "kernelspec": {
   "display_name": "Python 3",
   "language": "python",
   "name": "python3"
  },
  "language_info": {
   "codemirror_mode": {
    "name": "ipython",
    "version": 3
   },
   "file_extension": ".py",
   "mimetype": "text/x-python",
   "name": "python",
   "nbconvert_exporter": "python",
   "pygments_lexer": "ipython3",
   "version": "3.6.6"
  }
 },
 "nbformat": 4,
 "nbformat_minor": 1
}
