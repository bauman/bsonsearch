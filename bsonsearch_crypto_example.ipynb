{
 "cells": [
  {
   "cell_type": "code",
   "execution_count": 1,
   "metadata": {},
   "outputs": [],
   "source": [
    "import bson\n",
    "from bson.json_util import loads, dumps\n",
    "from bson.binary import Binary\n",
    "import pysodium\n",
    "from bsonsearch import bsoncompare\n",
    "bc = bsoncompare()"
   ]
  },
  {
   "cell_type": "markdown",
   "metadata": {},
   "source": [
    "You want to allow access to some data, but perhaps not all data in a particular document.  \n",
    "\n",
    "You must start by generating a public/private key pair on the secure side, and exposing only the public key to untrusted users."
   ]
  },
  {
   "cell_type": "code",
   "execution_count": 2,
   "metadata": {},
   "outputs": [],
   "source": [
    "PUBLIC_KEY = Binary('\\x8eB\\x11\\xd5ht\\x93\\x05\\xee\\xed\\x10\\xad\\xb4\\x90\\xb7]\\x92\\x04\\xac\\x82\\xb5\\xa2\"v\\xf9[\\xd6^\\x14\\x8b\\x12\\x1d', 0)"
   ]
  },
  {
   "cell_type": "code",
   "execution_count": 3,
   "metadata": {},
   "outputs": [
    {
     "name": "stdout",
     "output_type": "stream",
     "text": [
      "{'_id': 1, 'name': 'bsonsearch', 'super_secret_data': {'sensitive': 'triple pinky swear'}}\n"
     ]
    }
   ],
   "source": [
    "sensitive_subdocument = {\"sensitive\":\"triple pinky swear\"}\n",
    "document = {\n",
    "            \"_id\":1,\n",
    "            \"name\":\"bsonsearch\",\n",
    "            \"super_secret_data\":sensitive_subdocument\n",
    "           }\n",
    "print document"
   ]
  },
  {
   "cell_type": "code",
   "execution_count": 4,
   "metadata": {},
   "outputs": [
    {
     "name": "stdout",
     "output_type": "stream",
     "text": [
      "Matches True\n"
     ]
    }
   ],
   "source": [
    "plaintext_spec = {\"super_secret_data.sensitive\":\"triple pinky swear\"}\n",
    "plaintext_matc = bc.generate_matcher(plaintext_spec)\n",
    "print \"Matches\", bc.match(plaintext_matc, document)"
   ]
  },
  {
   "cell_type": "markdown",
   "metadata": {},
   "source": [
    "but maybe you don't want that tripple pinky swear value available to just anyone to search on\n",
    "\n",
    "so we're going to append the sensitve subdocument as an encrypted blob using assymentric encryption"
   ]
  },
  {
   "cell_type": "code",
   "execution_count": 5,
   "metadata": {},
   "outputs": [
    {
     "name": "stdout",
     "output_type": "stream",
     "text": [
      "{'_id': 1, 'name': 'bsonsearch', 'super_secret_data': Binary('\\xb2\\x9e ?\\xc6S\\xb1\\x94\\x1a\\xb3CPO=\\xab\\xda\\x8e\\xc8\\xe8\\xbb-\\nT\\xe1\\x0c1\\xd61z\\xd5\\xc2p:4?S\\x10\\xd0\\xb8\\x0b\\xb8b\\x9e,\\nuwCyQ\\x00M;\\xa0\\x16\\xfb\\xbf\\x8b\\x8b\\x7f%\\xa0\\xf9\\xae\\x15!\\x9f]\\xa9\\x88\\xc6\\x1a{\\x1c\\xbd\\xf1y\\x8c\\xf7=\\xd2\\x1f\\xf79\\x1a\\xe2\\x1a', 0)}\n"
     ]
    }
   ],
   "source": [
    "secure_sensitive_subdocument = Binary(pysodium.crypto_box_seal(bson.BSON.encode(sensitive_subdocument), \n",
    "                                                        PUBLIC_KEY))\n",
    "secure_document = {\n",
    "                    \"_id\":1,\n",
    "                    \"name\":\"bsonsearch\",\n",
    "                    \"super_secret_data\": secure_sensitive_subdocument\n",
    "                  }\n",
    "print secure_document"
   ]
  },
  {
   "cell_type": "markdown",
   "metadata": {},
   "source": [
    "this document will no longer match the original"
   ]
  },
  {
   "cell_type": "code",
   "execution_count": 6,
   "metadata": {},
   "outputs": [
    {
     "name": "stdout",
     "output_type": "stream",
     "text": [
      "Matches False\n"
     ]
    }
   ],
   "source": [
    "print \"Matches\", bc.match(plaintext_matc, secure_document)"
   ]
  },
  {
   "cell_type": "markdown",
   "metadata": {},
   "source": [
    "now we need the secret key, \n",
    "\n",
    "The person generating the document didn't need the secret key,\n",
    "\n",
    "but the person reading/querying the document does.\n",
    "\n",
    "\n",
    "The query uses the $sealOpen command and provides the keys and a query to the inside document\n",
    "\n",
    "notice the change in query, where the namespace is broken between the entry key and the $query\n",
    "\n",
    "the namespace \"secure_secret_data\" is accounted for in the $sealOpen command, and the query acts on the value of that namespace."
   ]
  },
  {
   "cell_type": "code",
   "execution_count": 7,
   "metadata": {},
   "outputs": [],
   "source": [
    "SECRET_KEY = Binary('\\xe2\\x16\\x9a,\\xb1\\x9b\\xb4\\xf67\\xe9\\xf8\\x83\\x0f\"_\\xa8}t\\xd2i:\\xbb\\xfd\\xb5\\x8a\\x89X.\\x1b\\x13\\x92Z', 0)\n",
    "\n",
    "\n",
    "\n",
    "spec_decrypt = {\"super_secret_data\":{\"$sealOpen\":{\"$keys\":{\"pk\":PUBLIC_KEY,\n",
    "                                                           \"sk\":SECRET_KEY},\n",
    "                                                  \"$query\":{\"sensitive\":\"triple pinky swear\"}\n",
    "                                                 }\n",
    "                                    }\n",
    "               }"
   ]
  },
  {
   "cell_type": "code",
   "execution_count": 8,
   "metadata": {},
   "outputs": [
    {
     "name": "stdout",
     "output_type": "stream",
     "text": [
      "Decrypt with key matches ----> True\n",
      "Non-decrypt should be false -> False\n"
     ]
    }
   ],
   "source": [
    "matcher_decrypt = bc.generate_matcher(spec_decrypt)\n",
    "print \"Decrypt with key matches ---->\", bc.match(matcher_decrypt, secure_document)\n",
    "print \"Non-decrypt should be false ->\", bc.match(plaintext_matc, secure_document) "
   ]
  },
  {
   "cell_type": "markdown",
   "metadata": {},
   "source": [
    "## Appendix - Generating Keys"
   ]
  },
  {
   "cell_type": "code",
   "execution_count": 9,
   "metadata": {},
   "outputs": [
    {
     "data": {
      "text/plain": [
       "{'pk': Binary('\\xc8\\xaf\\x96\\xaf1\\xed$\\xc0!\\x8cO\\xb7\\xb8\\x97\\x0bS\\x93J\\xf6\\x17\\xc3\\xc646k i\\xcar\\xb5\\x9b.', 0),\n",
       " 'sk': Binary('XW)\\xe9\\xb3P\\x1c\\xf9\\xdb\\x1aW\\x81\\x9cx\\t\\xa1\\xc0iY<\\x98Q\\xc8\\xcf\\x84\\x8f\\x84\\x9f\\xf7\\x9f\\xd9\\x89', 0)}"
      ]
     },
     "execution_count": 9,
     "metadata": {},
     "output_type": "execute_result"
    }
   ],
   "source": [
    "SECURE_KEYPAIR = pysodium.crypto_box_keypair()\n",
    "SECURE_KEYPAIR_DICT = {\"pk\":Binary(SECURE_KEYPAIR[0]),\n",
    "                       \"sk\":Binary(SECURE_KEYPAIR[1])}\n",
    "SECURE_KEYPAIR_DICT"
   ]
  },
  {
   "cell_type": "code",
   "execution_count": 9,
   "metadata": {},
   "outputs": [],
   "source": []
  }
 ],
 "metadata": {
  "kernelspec": {
   "display_name": "Python 3",
   "language": "python",
   "name": "python3"
  },
  "language_info": {
   "codemirror_mode": {
    "name": "ipython",
    "version": 3
   },
   "file_extension": ".py",
   "mimetype": "text/x-python",
   "name": "python",
   "nbconvert_exporter": "python",
   "pygments_lexer": "ipython3",
   "version": "3.6.6"
  }
 },
 "nbformat": 4,
 "nbformat_minor": 1
}
