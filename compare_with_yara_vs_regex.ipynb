{
 "metadata": {
  "name": "",
  "signature": "sha256:9449598758c7ea374ec7d360a63e387918beefaa3403928ffc711813b94bac7b"
 },
 "nbformat": 3,
 "nbformat_minor": 0,
 "worksheets": [
  {
   "cells": [
    {
     "cell_type": "code",
     "collapsed": false,
     "input": [
      "import yara\n",
      "import re\n",
      "import io\n",
      "import bsonsearch"
     ],
     "language": "python",
     "metadata": {},
     "outputs": [],
     "prompt_number": 1
    },
    {
     "cell_type": "code",
     "collapsed": false,
     "input": [
      "yara_source = '''\n",
      "rule example\n",
      "{\n",
      "    strings:\n",
      "        $a = \"hello\" nocase\n",
      "        $b = \"world\" nocase\n",
      "        $c = \"dominant rule\" nocase\n",
      "    condition:\n",
      "        ($a and $b) or $c\n",
      "}\n",
      "'''"
     ],
     "language": "python",
     "metadata": {},
     "outputs": [],
     "prompt_number": 2
    },
    {
     "cell_type": "code",
     "collapsed": false,
     "input": [
      "doc1 = {'msg': \"hELLO there WOrld\"}\n",
      "doc2 = {'msg': \"not hw but has a dominant rule string in it\"}"
     ],
     "language": "python",
     "metadata": {},
     "outputs": [],
     "prompt_number": 3
    },
    {
     "cell_type": "code",
     "collapsed": false,
     "input": [
      "%%timeit\n",
      "with bsonsearch.bsoncompare() as bc:\n",
      "    doc1_id = bc.generate_doc(doc1)\n",
      "    doc2_id = bc.generate_doc(doc2)\n",
      "    regx_spec = {\"$or\":[{\"msg\": re.compile(r\".*dominant rule.*\", re.IGNORECASE)},\n",
      "                        {\"$and\":[{\"msg\": re.compile(r\".*hello.*\", re.IGNORECASE)},\n",
      "                                 {\"msg\": re.compile(r\".*world.*\", re.IGNORECASE)}]}]}\n",
      "    regx_matcher = bc.generate_matcher(regx_spec)\n",
      "    result1 = bc.match_doc(regx_matcher, doc1_id)\n",
      "    result2 = bc.match_doc(regx_matcher, doc2_id)\n",
      "    assert (result1 and result2)"
     ],
     "language": "python",
     "metadata": {},
     "outputs": [
      {
       "output_type": "stream",
       "stream": "stdout",
       "text": [
        "100 loops, best of 3: 8.28 ms per loop\n"
       ]
      }
     ],
     "prompt_number": 4
    },
    {
     "cell_type": "code",
     "collapsed": false,
     "input": [
      "%%timeit\n",
      "with bsonsearch.bsoncompare() as bc:\n",
      "    doc1_id = bc.generate_doc(doc1)\n",
      "    doc2_id = bc.generate_doc(doc2)\n",
      "    yara_spec = {\"msg\": bsonsearch.YARA_COMPILE_STR(yara_source)}\n",
      "    yara_matcher = bc.generate_matcher(yara_spec)\n",
      "    result1 = bc.match_doc(yara_matcher, doc1_id)\n",
      "    result2 =  bc.match_doc(yara_matcher, doc2_id)\n",
      "    assert (result1 and result2)"
     ],
     "language": "python",
     "metadata": {},
     "outputs": [
      {
       "output_type": "stream",
       "stream": "stdout",
       "text": [
        "100 loops, best of 3: 9.85 ms per loop\n"
       ]
      }
     ],
     "prompt_number": 5
    },
    {
     "cell_type": "code",
     "collapsed": false,
     "input": [],
     "language": "python",
     "metadata": {},
     "outputs": []
    }
   ],
   "metadata": {}
  }
 ]
}