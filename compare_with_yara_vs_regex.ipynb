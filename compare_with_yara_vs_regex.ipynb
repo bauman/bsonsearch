{
 "cells": [
  {
   "cell_type": "code",
   "execution_count": 1,
   "metadata": {},
   "outputs": [],
   "source": [
    "import yara\n",
    "import re\n",
    "import io\n",
    "import bsonsearch"
   ]
  },
  {
   "cell_type": "code",
   "execution_count": 2,
   "metadata": {},
   "outputs": [],
   "source": [
    "yara_source = '''\n",
    "rule example\n",
    "{\n",
    "    strings:\n",
    "        $a = \"hello\" nocase\n",
    "        $b = \"world\" nocase\n",
    "        $c = \"dominant rule\" nocase\n",
    "    condition:\n",
    "        ($a and $b) or $c\n",
    "}\n",
    "'''"
   ]
  },
  {
   "cell_type": "code",
   "execution_count": 3,
   "metadata": {},
   "outputs": [],
   "source": [
    "doc1 = {'msg': \"hELLO there WOrld\"}\n",
    "doc2 = {'msg': \"not hw but has a dominant rule string in it\"}"
   ]
  },
  {
   "cell_type": "code",
   "execution_count": 4,
   "metadata": {},
   "outputs": [
    {
     "name": "stdout",
     "output_type": "stream",
     "text": [
      "100 loops, best of 3: 8.28 ms per loop\n"
     ]
    }
   ],
   "source": [
    "%%timeit\n",
    "with bsonsearch.bsoncompare() as bc:\n",
    "    doc1_id = bc.generate_doc(doc1)\n",
    "    doc2_id = bc.generate_doc(doc2)\n",
    "    regx_spec = {\"$or\":[{\"msg\": re.compile(r\".*dominant rule.*\", re.IGNORECASE)},\n",
    "                        {\"$and\":[{\"msg\": re.compile(r\".*hello.*\", re.IGNORECASE)},\n",
    "                                 {\"msg\": re.compile(r\".*world.*\", re.IGNORECASE)}]}]}\n",
    "    regx_matcher = bc.generate_matcher(regx_spec)\n",
    "    result1 = bc.match_doc(regx_matcher, doc1_id)\n",
    "    result2 = bc.match_doc(regx_matcher, doc2_id)\n",
    "    assert (result1 and result2)"
   ]
  },
  {
   "cell_type": "code",
   "execution_count": 5,
   "metadata": {},
   "outputs": [
    {
     "name": "stdout",
     "output_type": "stream",
     "text": [
      "100 loops, best of 3: 9.85 ms per loop\n"
     ]
    }
   ],
   "source": [
    "%%timeit\n",
    "with bsonsearch.bsoncompare() as bc:\n",
    "    doc1_id = bc.generate_doc(doc1)\n",
    "    doc2_id = bc.generate_doc(doc2)\n",
    "    yara_spec = {\"msg\": bsonsearch.YARA_COMPILE_STR(yara_source)}\n",
    "    yara_matcher = bc.generate_matcher(yara_spec)\n",
    "    result1 = bc.match_doc(yara_matcher, doc1_id)\n",
    "    result2 =  bc.match_doc(yara_matcher, doc2_id)\n",
    "    assert (result1 and result2)"
   ]
  },
  {
   "cell_type": "code",
   "execution_count": null,
   "metadata": {},
   "outputs": [],
   "source": []
  }
 ],
 "metadata": {
  "kernelspec": {
   "display_name": "Python 3",
   "language": "python",
   "name": "python3"
  },
  "language_info": {
   "codemirror_mode": {
    "name": "ipython",
    "version": 3
   },
   "file_extension": ".py",
   "mimetype": "text/x-python",
   "name": "python",
   "nbconvert_exporter": "python",
   "pygments_lexer": "ipython3",
   "version": "3.6.6"
  }
 },
 "nbformat": 4,
 "nbformat_minor": 1
}
